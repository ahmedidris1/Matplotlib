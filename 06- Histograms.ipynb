{
 "cells": [
  {
   "cell_type": "code",
   "execution_count": 1,
   "id": "ea888552-76ad-4f2d-aa9c-ab285179efd8",
   "metadata": {},
   "outputs": [],
   "source": [
    "from matplotlib import pyplot as plt"
   ]
  },
  {
   "cell_type": "code",
   "execution_count": 2,
   "id": "05185081-1194-4933-824e-2b965cd93526",
   "metadata": {},
   "outputs": [],
   "source": [
    "plt.style.use('fivethirtyeight')"
   ]
  },
  {
   "cell_type": "markdown",
   "id": "8aa464fa-4cce-42a8-8dc0-94d2798591f0",
   "metadata": {},
   "source": [
    "### Histogram     \n",
    "Histograms share similarity with Bar chart but they have major differences. Bar charts allow for plotting observed data and their frequencies. whilist, histograms allow for plotting the frequencies of sequential ranges of data (intervals) known also as bins.       \n",
    "To plot a Histogram of data, we use `plt.hist()` which takes as basic arguments, a lsit of data and optionally a bins attribute that denotes the number of intervals to divide the data into them."
   ]
  },
  {
   "cell_type": "code",
   "execution_count": 3,
   "id": "8b961943-9279-4640-b0fd-5149e78676c8",
   "metadata": {},
   "outputs": [],
   "source": [
    "ages = [18, 19, 21, 25, 26, 26, 30, 32, 38, 45, 55]"
   ]
  },
  {
   "cell_type": "markdown",
   "id": "f3e532ba-250e-4cca-b864-8ec269132cb3",
   "metadata": {},
   "source": [
    "First of all, let's see how `ages` data looks like when it is visualized using `plt.bar()`."
   ]
  },
  {
   "cell_type": "code",
   "execution_count": 4,
   "id": "cc5f831e-001c-4f56-816a-000f1814ef10",
   "metadata": {},
   "outputs": [],
   "source": [
    "from collections import Counter"
   ]
  },
  {
   "cell_type": "code",
   "execution_count": 5,
   "id": "bae59d32-459e-4dc5-8f88-1c2aab1a3dc1",
   "metadata": {},
   "outputs": [],
   "source": [
    "c = Counter(ages)"
   ]
  },
  {
   "cell_type": "code",
   "execution_count": 6,
   "id": "c019ea3e-e96e-4ad2-9af4-59ff79c24924",
   "metadata": {},
   "outputs": [
    {
     "data": {
      "text/plain": [
       "Counter({18: 1, 19: 1, 21: 1, 25: 1, 26: 2, 30: 1, 32: 1, 38: 1, 45: 1, 55: 1})"
      ]
     },
     "execution_count": 6,
     "metadata": {},
     "output_type": "execute_result"
    }
   ],
   "source": [
    "c"
   ]
  },
  {
   "cell_type": "code",
   "execution_count": 7,
   "id": "b6d70193-4a74-47cb-b599-a06ee3565c64",
   "metadata": {},
   "outputs": [
    {
     "data": {
      "text/plain": [
       "<BarContainer object of 10 artists>"
      ]
     },
     "execution_count": 7,
     "metadata": {},
     "output_type": "execute_result"
    },
    {
     "data": {
      "image/png": "[encoded data removed]",
      "text/plain": [
       "<Figure size 432x288 with 1 Axes>"
      ]
     },
     "metadata": {},
     "output_type": "display_data"
    }
   ],
   "source": [
    "plt.bar(c.keys(),c.values())"
   ]
  },
  {
   "cell_type": "markdown",
   "id": "2fc4bf4c-6554-4b70-bd59-fe87af7cd489",
   "metadata": {},
   "source": [
    "And now, let's visualize `ages` using `plt.hist()`"
   ]
  },
  {
   "cell_type": "code",
   "execution_count": 8,
   "id": "fc93376f-3020-42a8-b576-666c3eeb10d5",
   "metadata": {},
   "outputs": [
    {
     "data": {
      "text/plain": [
       "(array([3., 1., 2., 2., 0., 1., 0., 1., 0., 1.]),\n",
       " array([18. , 21.7, 25.4, 29.1, 32.8, 36.5, 40.2, 43.9, 47.6, 51.3, 55. ]),\n",
       " <BarContainer object of 10 artists>)"
      ]
     },
     "execution_count": 8,
     "metadata": {},
     "output_type": "execute_result"
    },
    {
     "data": {
      "image/png": "[encoded data removed]",
      "text/plain": [
       "<Figure size 432x288 with 1 Axes>"
      ]
     },
     "metadata": {},
     "output_type": "display_data"
    }
   ],
   "source": [
    "plt.hist(ages)"
   ]
  },
  {
   "cell_type": "markdown",
   "id": "0ef0c4f8-83a0-4e9f-9ca9-db1bfc20462c",
   "metadata": {},
   "source": [
    "Without deciding the number of intervals (the bins). Matplotlib, decide it automatically based on the passed data."
   ]
  },
  {
   "cell_type": "markdown",
   "id": "1d83e325-1e28-420a-8af1-f86d0f1a74fe",
   "metadata": {},
   "source": [
    "Deciding the number of bins will result in data being segmented into exactly the defined number of bins. "
   ]
  },
  {
   "cell_type": "code",
   "execution_count": 9,
   "id": "b8af69c9-4fc5-45e1-838a-74f60a7e7aaf",
   "metadata": {},
   "outputs": [
    {
     "data": {
      "text/plain": [
       "(array([4., 4., 1., 1., 1.]),\n",
       " array([18. , 25.4, 32.8, 40.2, 47.6, 55. ]),\n",
       " <BarContainer object of 5 artists>)"
      ]
     },
     "execution_count": 9,
     "metadata": {},
     "output_type": "execute_result"
    },
    {
     "data": {
      "image/png": "[encoded data removed]",
      "text/plain": [
       "<Figure size 432x288 with 1 Axes>"
      ]
     },
     "metadata": {},
     "output_type": "display_data"
    }
   ],
   "source": [
    "plt.hist(ages, bins=5)"
   ]
  },
  {
   "cell_type": "markdown",
   "id": "b6ae528f-ebd2-4fd6-9f11-7c9ee71f05c2",
   "metadata": {},
   "source": [
    "As we see, it not hard to recognize that the data is devided into 5 intervals, due to setting `bins` = `5`, but it is hard to recognize the boundries between intervals. To show boundries between intervals, use the attribute `edgecolor` that takes `color string` like `black`, `yellow` and so on... or a RGB value like ``#fc4f30`. "
   ]
  },
  {
   "cell_type": "code",
   "execution_count": 10,
   "id": "4fb7b458-f75c-40d1-ab64-c9608d5ab565",
   "metadata": {},
   "outputs": [
    {
     "data": {
      "text/plain": [
       "(array([4., 4., 1., 1., 1.]),\n",
       " array([18. , 25.4, 32.8, 40.2, 47.6, 55. ]),\n",
       " <BarContainer object of 5 artists>)"
      ]
     },
     "execution_count": 10,
     "metadata": {},
     "output_type": "execute_result"
    },
    {
     "data": {
      "image/png": "[encoded data removed]",
      "text/plain": [
       "<Figure size 432x288 with 1 Axes>"
      ]
     },
     "metadata": {},
     "output_type": "display_data"
    }
   ],
   "source": [
    "plt.hist(ages, bins=5, edgecolor='black')"
   ]
  },
  {
   "cell_type": "markdown",
   "id": "513b4c83-ca35-4da2-97b6-9f86d5a98cf1",
   "metadata": {},
   "source": [
    "when setting the attribute `bins` in `plt.hist()` to a number, Matplotlib decide the boundries of the intervals automatically. But we can define intervals boundries manually by setting them sequentially in a list."
   ]
  },
  {
   "cell_type": "code",
   "execution_count": 11,
   "id": "c04006ce-7de8-4c11-9374-d4a3fc416018",
   "metadata": {},
   "outputs": [],
   "source": [
    "bins = [10, 20, 30, 40, 50, 60]"
   ]
  },
  {
   "cell_type": "markdown",
   "id": "2a869819-46eb-460d-bd68-8306d067bcb7",
   "metadata": {},
   "source": [
    "The list `bins` above, denotes intervals `10-20`, `20-30`, `30-40`, `40-50`, `50-60` "
   ]
  },
  {
   "cell_type": "code",
   "execution_count": 12,
   "id": "b16171f5-6837-4f06-8579-7fe7c092f4d4",
   "metadata": {},
   "outputs": [
    {
     "data": {
      "text/plain": [
       "(array([2., 4., 3., 1., 1.]),\n",
       " array([10, 20, 30, 40, 50, 60]),\n",
       " <BarContainer object of 5 artists>)"
      ]
     },
     "execution_count": 12,
     "metadata": {},
     "output_type": "execute_result"
    },
    {
     "data": {
      "image/png": "[encoded data removed]",
      "text/plain": [
       "<Figure size 432x288 with 1 Axes>"
      ]
     },
     "metadata": {},
     "output_type": "display_data"
    }
   ],
   "source": [
    "plt.hist(ages, bins=bins, edgecolor='black')"
   ]
  },
  {
   "cell_type": "markdown",
   "id": "7f6e41d0-23b1-4322-8b12-04a56cf738ec",
   "metadata": {},
   "source": [
    "we can adjust the `bins` list however we want. Instead of starting from 10, we can start from 20 or however set the intervals."
   ]
  },
  {
   "cell_type": "code",
   "execution_count": 13,
   "id": "5f2b0cca-74c5-45dd-91ee-20cd96e26ad1",
   "metadata": {},
   "outputs": [
    {
     "data": {
      "text/plain": [
       "(array([4., 3., 1., 1.]),\n",
       " array([20, 30, 40, 50, 60]),\n",
       " <BarContainer object of 4 artists>)"
      ]
     },
     "execution_count": 13,
     "metadata": {},
     "output_type": "execute_result"
    },
    {
     "data": {
      "image/png": "[encoded data removed]",
      "text/plain": [
       "<Figure size 432x288 with 1 Axes>"
      ]
     },
     "metadata": {},
     "output_type": "display_data"
    }
   ],
   "source": [
    "bins = [20, 30, 40, 50, 60]\n",
    "plt.hist(ages, bins=bins, edgecolor='black')"
   ]
  },
  {
   "cell_type": "markdown",
   "id": "66af3d7a-26c4-400c-a3d6-50a9d6644e53",
   "metadata": {},
   "source": [
    "Now let's apply what we have just learnt into a real dataset. We have a dataset at `data` folder in a file with the name `histData.csv`"
   ]
  },
  {
   "cell_type": "code",
   "execution_count": 14,
   "id": "cdaafa98-a80b-4eff-baa6-9d279294c920",
   "metadata": {},
   "outputs": [],
   "source": [
    "import pandas as pd"
   ]
  },
  {
   "cell_type": "code",
   "execution_count": 15,
   "id": "1ea0d751-7e82-43a1-8e0f-1d6f3c3aad13",
   "metadata": {},
   "outputs": [],
   "source": [
    "data  = pd.read_csv('data/histData.csv')"
   ]
  },
  {
   "cell_type": "code",
   "execution_count": 16,
   "id": "819e8cff-2ac5-43b9-9420-56de644b1b86",
   "metadata": {},
   "outputs": [
    {
     "data": {
      "text/html": [
       "<div>\n",
       "<style scoped>\n",
       "    .dataframe tbody tr th:only-of-type {\n",
       "        vertical-align: middle;\n",
       "    }\n",
       "\n",
       "    .dataframe tbody tr th {\n",
       "        vertical-align: top;\n",
       "    }\n",
       "\n",
       "    .dataframe thead th {\n",
       "        text-align: right;\n",
       "    }\n",
       "</style>\n",
       "<table border=\"1\" class=\"dataframe\">\n",
       "  <thead>\n",
       "    <tr style=\"text-align: right;\">\n",
       "      <th></th>\n",
       "      <th>Responder_id</th>\n",
       "      <th>Age</th>\n",
       "    </tr>\n",
       "  </thead>\n",
       "  <tbody>\n",
       "    <tr>\n",
       "      <th>0</th>\n",
       "      <td>1</td>\n",
       "      <td>14</td>\n",
       "    </tr>\n",
       "    <tr>\n",
       "      <th>1</th>\n",
       "      <td>2</td>\n",
       "      <td>19</td>\n",
       "    </tr>\n",
       "    <tr>\n",
       "      <th>2</th>\n",
       "      <td>3</td>\n",
       "      <td>28</td>\n",
       "    </tr>\n",
       "    <tr>\n",
       "      <th>3</th>\n",
       "      <td>4</td>\n",
       "      <td>22</td>\n",
       "    </tr>\n",
       "    <tr>\n",
       "      <th>4</th>\n",
       "      <td>5</td>\n",
       "      <td>30</td>\n",
       "    </tr>\n",
       "  </tbody>\n",
       "</table>\n",
       "</div>"
      ],
      "text/plain": [
       "   Responder_id  Age\n",
       "0             1   14\n",
       "1             2   19\n",
       "2             3   28\n",
       "3             4   22\n",
       "4             5   30"
      ]
     },
     "execution_count": 16,
     "metadata": {},
     "output_type": "execute_result"
    }
   ],
   "source": [
    "data.head()"
   ]
  },
  {
   "cell_type": "code",
   "execution_count": 17,
   "id": "074f11fd-756b-4272-b8ca-d5970afc1be2",
   "metadata": {},
   "outputs": [],
   "source": [
    "ids = data['Responder_id']\n",
    "age = data['Age']"
   ]
  },
  {
   "cell_type": "code",
   "execution_count": 18,
   "id": "c43f2b65-af75-4f9c-8131-1940e2f0de11",
   "metadata": {},
   "outputs": [],
   "source": [
    "bins = [10, 20, 30, 40, 50, 60, 70, 80, 90, 100]"
   ]
  },
  {
   "cell_type": "code",
   "execution_count": 19,
   "id": "44a31295-608d-494e-95e6-cee5308379ab",
   "metadata": {},
   "outputs": [
    {
     "data": {
      "text/plain": [
       "[10, 20, 30, 40, 50, 60, 70, 80, 90, 100]"
      ]
     },
     "execution_count": 19,
     "metadata": {},
     "output_type": "execute_result"
    }
   ],
   "source": [
    "bins"
   ]
  },
  {
   "cell_type": "code",
   "execution_count": 20,
   "id": "3b024f23-eeae-46dc-b215-db9f21d3ab9b",
   "metadata": {},
   "outputs": [
    {
     "data": {
      "text/plain": [
       "Text(0, 0.5, 'Ages frequencies')"
      ]
     },
     "execution_count": 20,
     "metadata": {},
     "output_type": "execute_result"
    },
    {
     "data": {
      "image/png": "[encoded data removed]",
      "text/plain": [
       "<Figure size 432x288 with 1 Axes>"
      ]
     },
     "metadata": {},
     "output_type": "display_data"
    }
   ],
   "source": [
    "plt.hist(data['Age'], bins=bins, edgecolor='black')\n",
    "plt.title('Ages of Respondents')\n",
    "plt.xlabel('Ages')\n",
    "plt.ylabel('Ages frequencies')"
   ]
  },
  {
   "cell_type": "markdown",
   "id": "b265175a-bec7-4069-a3c8-bc29adb0e77a",
   "metadata": {},
   "source": [
    "Due to the proportions of the plot there are some intervals with low frequencies that is not visible in the Histogram. To be able to show all the frquencies of the data, we can set the attribute `log` to `True` which transform the scale of the data into logarithmic scale."
   ]
  },
  {
   "cell_type": "code",
   "execution_count": 21,
   "id": "d4587d76-4049-44d2-a02d-cbde3c131092",
   "metadata": {},
   "outputs": [
    {
     "data": {
      "text/plain": [
       "Text(0, 0.5, 'Ages frequencies')"
      ]
     },
     "execution_count": 21,
     "metadata": {},
     "output_type": "execute_result"
    },
    {
     "data": {
      "image/png": "[encoded data removed]",
      "text/plain": [
       "<Figure size 432x288 with 1 Axes>"
      ]
     },
     "metadata": {},
     "output_type": "display_data"
    }
   ],
   "source": [
    "plt.hist(data['Age'], bins=bins, edgecolor='black', log=True)\n",
    "plt.title('Ages of Respondents')\n",
    "plt.xlabel('Ages')\n",
    "plt.ylabel('Ages frequencies')"
   ]
  },
  {
   "cell_type": "markdown",
   "id": "d8414fd4-285b-4f99-9d85-116715b49afc",
   "metadata": {},
   "source": [
    "we can set a reference vertical line in our x-axis data `ages`. let's say we want to set `ages` median value to this vertical line. We do this by using `plt.axvline()` which takes as a basic argument a numeric value that tells where the vertical will be situated in the x-axis."
   ]
  },
  {
   "cell_type": "code",
   "execution_count": 22,
   "id": "ec30ad2b-2b61-43b8-b6e1-da606cbf9d7f",
   "metadata": {},
   "outputs": [],
   "source": [
    "ages_median = data['Age'].median()"
   ]
  },
  {
   "cell_type": "code",
   "execution_count": 23,
   "id": "387ccdb9-f0be-4c9e-ad44-523969bcb3ac",
   "metadata": {},
   "outputs": [
    {
     "data": {
      "text/plain": [
       "29.0"
      ]
     },
     "execution_count": 23,
     "metadata": {},
     "output_type": "execute_result"
    }
   ],
   "source": [
    "ages_median"
   ]
  },
  {
   "cell_type": "code",
   "execution_count": 24,
   "id": "7de9b263-8dfb-4199-909e-539341dc45fe",
   "metadata": {},
   "outputs": [
    {
     "data": {
      "image/png": "[encoded data removed]",
      "text/plain": [
       "<Figure size 432x288 with 1 Axes>"
      ]
     },
     "metadata": {},
     "output_type": "display_data"
    }
   ],
   "source": [
    "plt.hist(data['Age'], bins=bins, edgecolor='black', log=True)\n",
    "plt.title('Ages of Respondents')\n",
    "plt.xlabel('Ages')\n",
    "plt.ylabel('Ages frequencies')\n",
    "\n",
    "plt.axvline(ages_median, color='#fc4f30', label='Ages Median')\n",
    "plt.legend()\n",
    "plt.show()"
   ]
  },
  {
   "cell_type": "markdown",
   "id": "1a9b6e55-8eaf-40e7-a323-a266cd2fb69e",
   "metadata": {},
   "source": [
    "we can control the vertical line width using the attribute `linewidth`."
   ]
  },
  {
   "cell_type": "code",
   "execution_count": 25,
   "id": "9dc65657-b84a-40ea-b7ef-8240b0215bb1",
   "metadata": {},
   "outputs": [
    {
     "data": {
      "image/png": "[encoded data removed]",
      "text/plain": [
       "<Figure size 432x288 with 1 Axes>"
      ]
     },
     "metadata": {},
     "output_type": "display_data"
    }
   ],
   "source": [
    "plt.hist(data['Age'], bins=bins, edgecolor='black', log=True)\n",
    "plt.title('Ages of Respondents')\n",
    "plt.xlabel('Ages')\n",
    "plt.ylabel('Ages frequencies')\n",
    "\n",
    "plt.axvline(ages_median, color='#fc4f30', label='Ages Median', linewidth=2)\n",
    "plt.legend()\n",
    "plt.show()"
   ]
  },
  {
   "cell_type": "code",
   "execution_count": null,
   "id": "4c3501e5-bf9f-46ed-846b-46699eff0e8f",
   "metadata": {},
   "outputs": [],
   "source": []
  }
 ],
 "metadata": {
  "kernelspec": {
   "display_name": "Python 3 (ipykernel)",
   "language": "python",
   "name": "python3"
  },
  "language_info": {
   "codemirror_mode": {
    "name": "ipython",
    "version": 3
   },
   "file_extension": ".py",
   "mimetype": "text/x-python",
   "name": "python",
   "nbconvert_exporter": "python",
   "pygments_lexer": "ipython3",
   "version": "3.8.10"
  }
 },
 "nbformat": 4,
 "nbformat_minor": 5
}
